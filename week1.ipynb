{
 "cells": [
  {
   "metadata": {},
   "cell_type": "markdown",
   "source": [
    "# 什么是PyTorch？\n",
    "PyTorch是一个python库，主要提供了两个功能：\n",
    "1. GPU加速的张量计算\n",
    "2. 构建在反向自动求导的深度神经网络"
   ],
   "id": "fc569cf1924fed72"
  },
  {
   "metadata": {},
   "cell_type": "markdown",
   "source": "## 1.定义数据",
   "id": "c3fe269775c3a2f8"
  },
  {
   "metadata": {
    "ExecuteTime": {
     "end_time": "2024-08-24T07:38:32.940690Z",
     "start_time": "2024-08-24T07:38:30.700762Z"
    }
   },
   "cell_type": "code",
   "source": [
    "import torch\n",
    "\n",
    "x = torch.tensor([[1,2,3],[4,5,6],[7,8,9]])\n",
    "x"
   ],
   "id": "1321e96941c8515a",
   "outputs": [
    {
     "data": {
      "text/plain": [
       "tensor([[1, 2, 3],\n",
       "        [4, 5, 6],\n",
       "        [7, 8, 9]])"
      ]
     },
     "execution_count": 1,
     "metadata": {},
     "output_type": "execute_result"
    }
   ],
   "execution_count": 1
  },
  {
   "metadata": {
    "ExecuteTime": {
     "end_time": "2024-08-24T07:38:32.947033Z",
     "start_time": "2024-08-24T07:38:32.941695Z"
    }
   },
   "cell_type": "code",
   "source": [
    "y = torch.tensor(666)\n",
    "y"
   ],
   "id": "1cadd319272d1b06",
   "outputs": [
    {
     "data": {
      "text/plain": [
       "tensor(666)"
      ]
     },
     "execution_count": 2,
     "metadata": {},
     "output_type": "execute_result"
    }
   ],
   "execution_count": 2
  },
  {
   "metadata": {
    "ExecuteTime": {
     "end_time": "2024-08-24T07:38:32.952552Z",
     "start_time": "2024-08-24T07:38:32.948039Z"
    }
   },
   "cell_type": "code",
   "source": [
    "z = torch.tensor([1,2,3])\n",
    "z"
   ],
   "id": "2433f70bf9323bfb",
   "outputs": [
    {
     "data": {
      "text/plain": [
       "tensor([1, 2, 3])"
      ]
     },
     "execution_count": 3,
     "metadata": {},
     "output_type": "execute_result"
    }
   ],
   "execution_count": 3
  },
  {
   "metadata": {},
   "cell_type": "markdown",
   "source": "torch支持多种数据类型，创建时也有多种用法，ones，zeros，rand，normal等",
   "id": "3dc32bac86ce3d3a"
  },
  {
   "metadata": {
    "ExecuteTime": {
     "end_time": "2024-08-24T07:38:33.080513Z",
     "start_time": "2024-08-24T07:38:32.953559Z"
    }
   },
   "cell_type": "code",
   "source": [
    "x = torch.empty(5,3)\n",
    "x"
   ],
   "id": "f829122d97a76df0",
   "outputs": [
    {
     "data": {
      "text/plain": [
       "tensor([[-7.8761e-26,  1.5723e-42,  0.0000e+00],\n",
       "        [ 0.0000e+00,  0.0000e+00,  0.0000e+00],\n",
       "        [ 0.0000e+00,  0.0000e+00,  0.0000e+00],\n",
       "        [ 0.0000e+00,  0.0000e+00,  0.0000e+00],\n",
       "        [ 0.0000e+00,  0.0000e+00,  0.0000e+00]])"
      ]
     },
     "execution_count": 4,
     "metadata": {},
     "output_type": "execute_result"
    }
   ],
   "execution_count": 4
  },
  {
   "metadata": {
    "ExecuteTime": {
     "end_time": "2024-08-24T07:38:33.087912Z",
     "start_time": "2024-08-24T07:38:33.082519Z"
    }
   },
   "cell_type": "code",
   "source": [
    "x = torch.rand(5,3)\n",
    "x"
   ],
   "id": "8e5201a7e105b7ee",
   "outputs": [
    {
     "data": {
      "text/plain": [
       "tensor([[0.0218, 0.4367, 0.5065],\n",
       "        [0.8254, 0.1015, 0.9661],\n",
       "        [0.4733, 0.7189, 0.3751],\n",
       "        [0.7722, 0.3408, 0.8854],\n",
       "        [0.2250, 0.7164, 0.1170]])"
      ]
     },
     "execution_count": 5,
     "metadata": {},
     "output_type": "execute_result"
    }
   ],
   "execution_count": 5
  },
  {
   "metadata": {
    "ExecuteTime": {
     "end_time": "2024-08-24T07:38:33.095528Z",
     "start_time": "2024-08-24T07:38:33.088920Z"
    }
   },
   "cell_type": "code",
   "source": [
    "x = torch.zeros(5,3,dtype=torch.long)\n",
    "x"
   ],
   "id": "7f7fa83f22fd9fb4",
   "outputs": [
    {
     "data": {
      "text/plain": [
       "tensor([[0, 0, 0],\n",
       "        [0, 0, 0],\n",
       "        [0, 0, 0],\n",
       "        [0, 0, 0],\n",
       "        [0, 0, 0]])"
      ]
     },
     "execution_count": 6,
     "metadata": {},
     "output_type": "execute_result"
    }
   ],
   "execution_count": 6
  },
  {
   "metadata": {
    "ExecuteTime": {
     "end_time": "2024-08-24T07:38:33.101455Z",
     "start_time": "2024-08-24T07:38:33.096534Z"
    }
   },
   "cell_type": "code",
   "source": [
    "y = x.new_ones(5,3)\n",
    "y"
   ],
   "id": "fb52eb28b906b9bb",
   "outputs": [
    {
     "data": {
      "text/plain": [
       "tensor([[1, 1, 1],\n",
       "        [1, 1, 1],\n",
       "        [1, 1, 1],\n",
       "        [1, 1, 1],\n",
       "        [1, 1, 1]])"
      ]
     },
     "execution_count": 7,
     "metadata": {},
     "output_type": "execute_result"
    }
   ],
   "execution_count": 7
  },
  {
   "metadata": {
    "ExecuteTime": {
     "end_time": "2024-08-24T07:38:33.108517Z",
     "start_time": "2024-08-24T07:38:33.102462Z"
    }
   },
   "cell_type": "code",
   "source": [
    "z = torch.randn_like(x,dtype=torch.float)\n",
    "z"
   ],
   "id": "2568ffdf4d2a44ae",
   "outputs": [
    {
     "data": {
      "text/plain": [
       "tensor([[ 1.1719, -0.6428,  1.2429],\n",
       "        [-1.1626, -0.2298, -0.7887],\n",
       "        [-0.6952,  1.0375,  0.8813],\n",
       "        [-0.6413,  0.1275, -0.7534],\n",
       "        [-1.1081,  0.4624,  0.8317]])"
      ]
     },
     "execution_count": 8,
     "metadata": {},
     "output_type": "execute_result"
    }
   ],
   "execution_count": 8
  },
  {
   "metadata": {},
   "cell_type": "markdown",
   "source": [
    "## 2.定义操作\n",
    "用tensor进行各种运算，都是Function，包含\n",
    "1. 基本运算，加减乘除、求幂求余\n",
    "2. 布尔运算，\n",
    "3. 线性运算、矩阵乘法，模、行列式等"
   ],
   "id": "14d042da4780640f"
  },
  {
   "metadata": {
    "ExecuteTime": {
     "end_time": "2024-08-24T07:38:33.114427Z",
     "start_time": "2024-08-24T07:38:33.109522Z"
    }
   },
   "cell_type": "code",
   "source": [
    "m =torch.tensor([[1,2,3],[4,5,6],[7,8,9]])\n",
    "print(m.size(0), m.size(1), m.size(), sep= ' -- ')"
   ],
   "id": "3e3ab50f528fa6ce",
   "outputs": [
    {
     "name": "stdout",
     "output_type": "stream",
     "text": [
      "3 -- 3 -- torch.Size([3, 3])\n"
     ]
    }
   ],
   "execution_count": 9
  },
  {
   "metadata": {
    "ExecuteTime": {
     "end_time": "2024-08-24T07:38:33.119945Z",
     "start_time": "2024-08-24T07:38:33.115433Z"
    }
   },
   "cell_type": "code",
   "source": "m.numel()",
   "id": "40d69825c5279d10",
   "outputs": [
    {
     "data": {
      "text/plain": [
       "9"
      ]
     },
     "execution_count": 10,
     "metadata": {},
     "output_type": "execute_result"
    }
   ],
   "execution_count": 10
  },
  {
   "metadata": {
    "ExecuteTime": {
     "end_time": "2024-08-24T07:38:33.126205Z",
     "start_time": "2024-08-24T07:38:33.120957Z"
    }
   },
   "cell_type": "code",
   "source": "m[:,1]",
   "id": "41b1474747b9519b",
   "outputs": [
    {
     "data": {
      "text/plain": [
       "tensor([2, 5, 8])"
      ]
     },
     "execution_count": 11,
     "metadata": {},
     "output_type": "execute_result"
    }
   ],
   "execution_count": 11
  },
  {
   "metadata": {
    "ExecuteTime": {
     "end_time": "2024-08-24T07:38:33.131771Z",
     "start_time": "2024-08-24T07:38:33.127209Z"
    }
   },
   "cell_type": "code",
   "source": "m[0, :]",
   "id": "7463f0f4298196c",
   "outputs": [
    {
     "data": {
      "text/plain": [
       "tensor([1, 2, 3])"
      ]
     },
     "execution_count": 12,
     "metadata": {},
     "output_type": "execute_result"
    }
   ],
   "execution_count": 12
  },
  {
   "metadata": {
    "ExecuteTime": {
     "end_time": "2024-08-24T07:38:33.138099Z",
     "start_time": "2024-08-24T07:38:33.132777Z"
    }
   },
   "cell_type": "code",
   "source": [
    "v = torch.arange(1, 4)\n",
    "v"
   ],
   "id": "70f96c3e5eaa540f",
   "outputs": [
    {
     "data": {
      "text/plain": [
       "tensor([1, 2, 3])"
      ]
     },
     "execution_count": 13,
     "metadata": {},
     "output_type": "execute_result"
    }
   ],
   "execution_count": 13
  },
  {
   "metadata": {
    "ExecuteTime": {
     "end_time": "2024-08-24T07:38:33.145023Z",
     "start_time": "2024-08-24T07:38:33.140107Z"
    }
   },
   "cell_type": "code",
   "source": "m @ v # 矩阵乘法",
   "id": "a393dad60e059f52",
   "outputs": [
    {
     "data": {
      "text/plain": [
       "tensor([14, 32, 50])"
      ]
     },
     "execution_count": 14,
     "metadata": {},
     "output_type": "execute_result"
    }
   ],
   "execution_count": 14
  },
  {
   "metadata": {
    "ExecuteTime": {
     "end_time": "2024-08-24T07:38:33.150946Z",
     "start_time": "2024-08-24T07:38:33.146031Z"
    }
   },
   "cell_type": "code",
   "source": "m + torch.rand(3,3)",
   "id": "2c2a70325fe26e2b",
   "outputs": [
    {
     "data": {
      "text/plain": [
       "tensor([[1.5489, 2.1858, 3.0299],\n",
       "        [4.2582, 5.9573, 6.1102],\n",
       "        [7.7761, 8.8347, 9.5735]])"
      ]
     },
     "execution_count": 15,
     "metadata": {},
     "output_type": "execute_result"
    }
   ],
   "execution_count": 15
  },
  {
   "metadata": {
    "ExecuteTime": {
     "end_time": "2024-08-24T07:38:33.157094Z",
     "start_time": "2024-08-24T07:38:33.151953Z"
    }
   },
   "cell_type": "code",
   "source": "m.t()",
   "id": "99539fb15d467c3a",
   "outputs": [
    {
     "data": {
      "text/plain": [
       "tensor([[1, 4, 7],\n",
       "        [2, 5, 8],\n",
       "        [3, 6, 9]])"
      ]
     },
     "execution_count": 16,
     "metadata": {},
     "output_type": "execute_result"
    }
   ],
   "execution_count": 16
  },
  {
   "metadata": {
    "ExecuteTime": {
     "end_time": "2024-08-24T07:38:33.162765Z",
     "start_time": "2024-08-24T07:38:33.158105Z"
    }
   },
   "cell_type": "code",
   "source": "m.transpose(0, 1)",
   "id": "df79f223dd4ee1de",
   "outputs": [
    {
     "data": {
      "text/plain": [
       "tensor([[1, 4, 7],\n",
       "        [2, 5, 8],\n",
       "        [3, 6, 9]])"
      ]
     },
     "execution_count": 17,
     "metadata": {},
     "output_type": "execute_result"
    }
   ],
   "execution_count": 17
  },
  {
   "metadata": {
    "ExecuteTime": {
     "end_time": "2024-08-24T07:38:33.169477Z",
     "start_time": "2024-08-24T07:38:33.163770Z"
    }
   },
   "cell_type": "code",
   "source": "torch.linspace(3, 8, 20)",
   "id": "b6143fc6e6bce1e5",
   "outputs": [
    {
     "data": {
      "text/plain": [
       "tensor([3.0000, 3.2632, 3.5263, 3.7895, 4.0526, 4.3158, 4.5789, 4.8421, 5.1053,\n",
       "        5.3684, 5.6316, 5.8947, 6.1579, 6.4211, 6.6842, 6.9474, 7.2105, 7.4737,\n",
       "        7.7368, 8.0000])"
      ]
     },
     "execution_count": 18,
     "metadata": {},
     "output_type": "execute_result"
    }
   ],
   "execution_count": 18
  },
  {
   "metadata": {
    "ExecuteTime": {
     "end_time": "2024-08-24T07:38:34.030070Z",
     "start_time": "2024-08-24T07:38:33.170484Z"
    }
   },
   "cell_type": "code",
   "source": [
    "import matplotlib.pyplot as plt\n",
    "import matplotlib.style as style\n",
    "style.use('fast')"
   ],
   "id": "33b0329e8dc78bb6",
   "outputs": [],
   "execution_count": 19
  },
  {
   "metadata": {},
   "cell_type": "markdown",
   "source": "# Spiral Classsifciation\n",
   "id": "e69538106c5a8338"
  },
  {
   "metadata": {
    "ExecuteTime": {
     "end_time": "2024-08-24T07:38:34.035173Z",
     "start_time": "2024-08-24T07:38:34.031075Z"
    }
   },
   "cell_type": "code",
   "source": [
    "# import\n",
    "import random\n",
    "import math \n",
    "import torch\n",
    "import torch.nn\n",
    "import torch.optim as optim\n",
    "from IPython import display\n",
    "from plot_lib import plot_data, plot_model, set_default\n",
    "import os\n",
    "os.environ['KMP_DUPLICATE_LIB_OK'] = 'True'\n"
   ],
   "id": "4e3c924fb5bf4fe0",
   "outputs": [],
   "execution_count": 20
  },
  {
   "metadata": {
    "ExecuteTime": {
     "end_time": "2024-08-24T07:38:34.041161Z",
     "start_time": "2024-08-24T07:38:34.036181Z"
    }
   },
   "cell_type": "code",
   "source": [
    "device = torch.device(\"cuda:0\" if torch.cuda.is_available() else \"cpu\")\n",
    "device"
   ],
   "id": "4d444aa2adc5e860",
   "outputs": [
    {
     "data": {
      "text/plain": [
       "device(type='cpu')"
      ]
     },
     "execution_count": 21,
     "metadata": {},
     "output_type": "execute_result"
    }
   ],
   "execution_count": 21
  },
  {
   "metadata": {},
   "cell_type": "markdown",
   "source": "初始化随机数种子，神经网络参数在初始时是随机的，而不同的初始值会影响神经网络的性能，当我们德奥一个比较好的结果时，我们希望这是可以复现的，因此，在pytorch中通过设置随机数种子来达到这个目的。",
   "id": "d5d98f173804691b"
  },
  {
   "metadata": {},
   "cell_type": "markdown",
   "source": "初始化X和Y，X是一个特征矩阵，大小为[NxC, D]，Y是样本标签大小为CxN。",
   "id": "fbe44335e0d0a45f"
  },
  {
   "metadata": {
    "ExecuteTime": {
     "end_time": "2024-08-24T07:38:34.048299Z",
     "start_time": "2024-08-24T07:38:34.042166Z"
    }
   },
   "cell_type": "code",
   "source": [
    "seed = 12345\n",
    "random.seed(seed)\n",
    "torch.manual_seed(seed)\n",
    "\n",
    "N = 1000  # 每类样本的数量\n",
    "D = 2   # 每类样本的特征维度\n",
    "C = 3   # 样本类别\n",
    "H = 100     # 隐藏层单元数量"
   ],
   "id": "b50c90557917e23a",
   "outputs": [],
   "execution_count": 22
  },
  {
   "metadata": {
    "ExecuteTime": {
     "end_time": "2024-08-24T07:38:34.178491Z",
     "start_time": "2024-08-24T07:38:34.049303Z"
    }
   },
   "cell_type": "code",
   "source": [
    "X = torch.zeros(N * C, D).to(device)\n",
    "Y = torch.zeros(N * C, dtype=torch.long).to(device)\n",
    "for c in range(C):\n",
    "    index = 0\n",
    "    t = torch.linspace(0, 1, N)\n",
    "    inner_var = torch.linspace((2*math.pi/C) * c, (2 * math.pi / C) * (c + 2), N)\n",
    "    for ix in range(N * c, N * (c+1)):\n",
    "        X[ix] = t[index] * torch.FloatTensor((math.sin(inner_var[index]),math.cos(inner_var[index])))\n",
    "        Y[ix] = c\n",
    "        index += 1\n",
    "print('Shapes：')\n",
    "print(X.size())\n",
    "print(Y.size())"
   ],
   "id": "26ba3abfe9f84f8e",
   "outputs": [
    {
     "name": "stdout",
     "output_type": "stream",
     "text": [
      "Shapes：\n",
      "torch.Size([3000, 2])\n",
      "torch.Size([3000])\n"
     ]
    }
   ],
   "execution_count": 23
  },
  {
   "metadata": {
    "ExecuteTime": {
     "end_time": "2024-08-24T07:38:34.348281Z",
     "start_time": "2024-08-24T07:38:34.179496Z"
    }
   },
   "cell_type": "code",
   "source": "plot_data(X, Y)",
   "id": "770efd4a93c9a497",
   "outputs": [
    {
     "data": {
      "text/plain": [
       "<Figure size 640x480 with 1 Axes>"
      ],
      "image/png": "[encoded data removed]"
     },
     "metadata": {},
     "output_type": "display_data"
    }
   ],
   "execution_count": 24
  },
  {
   "metadata": {
    "ExecuteTime": {
     "end_time": "2024-08-24T07:38:34.351509Z",
     "start_time": "2024-08-24T07:38:34.349285Z"
    }
   },
   "cell_type": "code",
   "source": "",
   "id": "933fff583597b498",
   "outputs": [],
   "execution_count": 24
  }
 ],
 "metadata": {
  "kernelspec": {
   "display_name": "Python 3",
   "language": "python",
   "name": "python3"
  },
  "language_info": {
   "codemirror_mode": {
    "name": "ipython",
    "version": 2
   },
   "file_extension": ".py",
   "mimetype": "text/x-python",
   "name": "python",
   "nbconvert_exporter": "python",
   "pygments_lexer": "ipython2",
   "version": "2.7.6"
  }
 },
 "nbformat": 4,
 "nbformat_minor": 5
}
