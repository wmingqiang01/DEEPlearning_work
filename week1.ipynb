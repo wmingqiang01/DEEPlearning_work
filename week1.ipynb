{
 "cells": [
  {
   "metadata": {},
   "cell_type": "markdown",
   "source": [
    "# 什么是PyTorch？\n",
    "PyTorch是一个python库，主要提供了两个功能：\n",
    "1. GPU加速的张量计算\n",
    "2. 构建在反向自动求导的深度神经网络"
   ],
   "id": "fc569cf1924fed72"
  },
  {
   "metadata": {},
   "cell_type": "markdown",
   "source": "## 1.定义数据",
   "id": "c3fe269775c3a2f8"
  },
  {
   "metadata": {
    "ExecuteTime": {
     "end_time": "2024-08-24T08:02:12.561260Z",
     "start_time": "2024-08-24T08:02:12.554032Z"
    }
   },
   "cell_type": "code",
   "source": [
    "import torch\n",
    "\n",
    "x = torch.tensor([[1,2,3],[4,5,6],[7,8,9]])\n",
    "x"
   ],
   "id": "1321e96941c8515a",
   "outputs": [
    {
     "data": {
      "text/plain": [
       "tensor([[1, 2, 3],\n",
       "        [4, 5, 6],\n",
       "        [7, 8, 9]])"
      ]
     },
     "execution_count": 26,
     "metadata": {},
     "output_type": "execute_result"
    }
   ],
   "execution_count": 26
  },
  {
   "metadata": {
    "ExecuteTime": {
     "end_time": "2024-08-24T08:02:12.768230Z",
     "start_time": "2024-08-24T08:02:12.762336Z"
    }
   },
   "cell_type": "code",
   "source": [
    "y = torch.tensor(666)\n",
    "y"
   ],
   "id": "1cadd319272d1b06",
   "outputs": [
    {
     "data": {
      "text/plain": [
       "tensor(666)"
      ]
     },
     "execution_count": 27,
     "metadata": {},
     "output_type": "execute_result"
    }
   ],
   "execution_count": 27
  },
  {
   "metadata": {
    "ExecuteTime": {
     "end_time": "2024-08-24T08:02:12.817904Z",
     "start_time": "2024-08-24T08:02:12.811237Z"
    }
   },
   "cell_type": "code",
   "source": [
    "z = torch.tensor([1,2,3])\n",
    "z"
   ],
   "id": "2433f70bf9323bfb",
   "outputs": [
    {
     "data": {
      "text/plain": [
       "tensor([1, 2, 3])"
      ]
     },
     "execution_count": 28,
     "metadata": {},
     "output_type": "execute_result"
    }
   ],
   "execution_count": 28
  },
  {
   "metadata": {},
   "cell_type": "markdown",
   "source": "torch支持多种数据类型，创建时也有多种用法，ones，zeros，rand，normal等",
   "id": "3dc32bac86ce3d3a"
  },
  {
   "metadata": {
    "ExecuteTime": {
     "end_time": "2024-08-24T08:02:12.902432Z",
     "start_time": "2024-08-24T08:02:12.896067Z"
    }
   },
   "cell_type": "code",
   "source": [
    "x = torch.empty(5,3)\n",
    "x"
   ],
   "id": "f829122d97a76df0",
   "outputs": [
    {
     "data": {
      "text/plain": [
       "tensor([[1.5842e+26, 1.9086e-42, 0.0000e+00],\n",
       "        [0.0000e+00, 0.0000e+00, 0.0000e+00],\n",
       "        [0.0000e+00, 0.0000e+00, 0.0000e+00],\n",
       "        [0.0000e+00, 0.0000e+00, 0.0000e+00],\n",
       "        [0.0000e+00, 0.0000e+00, 0.0000e+00]])"
      ]
     },
     "execution_count": 29,
     "metadata": {},
     "output_type": "execute_result"
    }
   ],
   "execution_count": 29
  },
  {
   "metadata": {
    "ExecuteTime": {
     "end_time": "2024-08-24T08:02:12.953729Z",
     "start_time": "2024-08-24T08:02:12.948442Z"
    }
   },
   "cell_type": "code",
   "source": [
    "x = torch.rand(5,3)\n",
    "x"
   ],
   "id": "8e5201a7e105b7ee",
   "outputs": [
    {
     "data": {
      "text/plain": [
       "tensor([[0.9817, 0.8796, 0.9921],\n",
       "        [0.4611, 0.0832, 0.1784],\n",
       "        [0.3674, 0.5676, 0.3376],\n",
       "        [0.2119, 0.4594, 0.8154],\n",
       "        [0.9157, 0.2531, 0.2133]])"
      ]
     },
     "execution_count": 30,
     "metadata": {},
     "output_type": "execute_result"
    }
   ],
   "execution_count": 30
  },
  {
   "metadata": {
    "ExecuteTime": {
     "end_time": "2024-08-24T08:02:13.002168Z",
     "start_time": "2024-08-24T08:02:12.995736Z"
    }
   },
   "cell_type": "code",
   "source": [
    "x = torch.zeros(5,3,dtype=torch.long)\n",
    "x"
   ],
   "id": "7f7fa83f22fd9fb4",
   "outputs": [
    {
     "data": {
      "text/plain": [
       "tensor([[0, 0, 0],\n",
       "        [0, 0, 0],\n",
       "        [0, 0, 0],\n",
       "        [0, 0, 0],\n",
       "        [0, 0, 0]])"
      ]
     },
     "execution_count": 31,
     "metadata": {},
     "output_type": "execute_result"
    }
   ],
   "execution_count": 31
  },
  {
   "metadata": {
    "ExecuteTime": {
     "end_time": "2024-08-24T08:02:13.041451Z",
     "start_time": "2024-08-24T08:02:13.035175Z"
    }
   },
   "cell_type": "code",
   "source": [
    "y = x.new_ones(5,3)\n",
    "y"
   ],
   "id": "fb52eb28b906b9bb",
   "outputs": [
    {
     "data": {
      "text/plain": [
       "tensor([[1, 1, 1],\n",
       "        [1, 1, 1],\n",
       "        [1, 1, 1],\n",
       "        [1, 1, 1],\n",
       "        [1, 1, 1]])"
      ]
     },
     "execution_count": 32,
     "metadata": {},
     "output_type": "execute_result"
    }
   ],
   "execution_count": 32
  },
  {
   "metadata": {
    "ExecuteTime": {
     "end_time": "2024-08-24T08:02:13.105540Z",
     "start_time": "2024-08-24T08:02:13.099458Z"
    }
   },
   "cell_type": "code",
   "source": [
    "z = torch.randn_like(x,dtype=torch.float)\n",
    "z"
   ],
   "id": "2568ffdf4d2a44ae",
   "outputs": [
    {
     "data": {
      "text/plain": [
       "tensor([[ 0.7098, -1.6195, -0.9109],\n",
       "        [ 0.7987,  2.2530, -2.5439],\n",
       "        [-0.6185, -0.6405, -0.2584],\n",
       "        [ 1.0287, -0.5796, -0.0061],\n",
       "        [-0.4907,  0.3597, -0.4579]])"
      ]
     },
     "execution_count": 33,
     "metadata": {},
     "output_type": "execute_result"
    }
   ],
   "execution_count": 33
  },
  {
   "metadata": {},
   "cell_type": "markdown",
   "source": [
    "## 2.定义操作\n",
    "用tensor进行各种运算，都是Function，包含\n",
    "1. 基本运算，加减乘除、求幂求余\n",
    "2. 布尔运算，\n",
    "3. 线性运算、矩阵乘法，模、行列式等"
   ],
   "id": "14d042da4780640f"
  },
  {
   "metadata": {
    "ExecuteTime": {
     "end_time": "2024-08-24T08:02:13.126020Z",
     "start_time": "2024-08-24T08:02:13.120546Z"
    }
   },
   "cell_type": "code",
   "source": [
    "m =torch.tensor([[1,2,3],[4,5,6],[7,8,9]])\n",
    "print(m.size(0), m.size(1), m.size(), sep= ' -- ')"
   ],
   "id": "3e3ab50f528fa6ce",
   "outputs": [
    {
     "name": "stdout",
     "output_type": "stream",
     "text": [
      "3 -- 3 -- torch.Size([3, 3])\n"
     ]
    }
   ],
   "execution_count": 34
  },
  {
   "metadata": {
    "ExecuteTime": {
     "end_time": "2024-08-24T08:02:13.179356Z",
     "start_time": "2024-08-24T08:02:13.174028Z"
    }
   },
   "cell_type": "code",
   "source": "m.numel()",
   "id": "40d69825c5279d10",
   "outputs": [
    {
     "data": {
      "text/plain": [
       "9"
      ]
     },
     "execution_count": 35,
     "metadata": {},
     "output_type": "execute_result"
    }
   ],
   "execution_count": 35
  },
  {
   "metadata": {
    "ExecuteTime": {
     "end_time": "2024-08-24T08:02:13.216286Z",
     "start_time": "2024-08-24T08:02:13.210366Z"
    }
   },
   "cell_type": "code",
   "source": "m[:,1]",
   "id": "41b1474747b9519b",
   "outputs": [
    {
     "data": {
      "text/plain": [
       "tensor([2, 5, 8])"
      ]
     },
     "execution_count": 36,
     "metadata": {},
     "output_type": "execute_result"
    }
   ],
   "execution_count": 36
  },
  {
   "metadata": {
    "ExecuteTime": {
     "end_time": "2024-08-24T08:02:13.252566Z",
     "start_time": "2024-08-24T08:02:13.246295Z"
    }
   },
   "cell_type": "code",
   "source": "m[0, :]",
   "id": "7463f0f4298196c",
   "outputs": [
    {
     "data": {
      "text/plain": [
       "tensor([1, 2, 3])"
      ]
     },
     "execution_count": 37,
     "metadata": {},
     "output_type": "execute_result"
    }
   ],
   "execution_count": 37
  },
  {
   "metadata": {
    "ExecuteTime": {
     "end_time": "2024-08-24T08:02:13.279640Z",
     "start_time": "2024-08-24T08:02:13.273574Z"
    }
   },
   "cell_type": "code",
   "source": [
    "v = torch.arange(1, 4)\n",
    "v"
   ],
   "id": "70f96c3e5eaa540f",
   "outputs": [
    {
     "data": {
      "text/plain": [
       "tensor([1, 2, 3])"
      ]
     },
     "execution_count": 38,
     "metadata": {},
     "output_type": "execute_result"
    }
   ],
   "execution_count": 38
  },
  {
   "metadata": {
    "ExecuteTime": {
     "end_time": "2024-08-24T08:02:13.344632Z",
     "start_time": "2024-08-24T08:02:13.337646Z"
    }
   },
   "cell_type": "code",
   "source": "m @ v # 矩阵乘法",
   "id": "a393dad60e059f52",
   "outputs": [
    {
     "data": {
      "text/plain": [
       "tensor([14, 32, 50])"
      ]
     },
     "execution_count": 39,
     "metadata": {},
     "output_type": "execute_result"
    }
   ],
   "execution_count": 39
  },
  {
   "metadata": {
    "ExecuteTime": {
     "end_time": "2024-08-24T08:02:13.368755Z",
     "start_time": "2024-08-24T08:02:13.362639Z"
    }
   },
   "cell_type": "code",
   "source": "m + torch.rand(3,3)",
   "id": "2c2a70325fe26e2b",
   "outputs": [
    {
     "data": {
      "text/plain": [
       "tensor([[1.8827, 2.5490, 3.1045],\n",
       "        [4.8004, 5.1677, 6.4677],\n",
       "        [7.4986, 8.2797, 9.7238]])"
      ]
     },
     "execution_count": 40,
     "metadata": {},
     "output_type": "execute_result"
    }
   ],
   "execution_count": 40
  },
  {
   "metadata": {
    "ExecuteTime": {
     "end_time": "2024-08-24T08:02:13.405239Z",
     "start_time": "2024-08-24T08:02:13.399760Z"
    }
   },
   "cell_type": "code",
   "source": "m.t()",
   "id": "99539fb15d467c3a",
   "outputs": [
    {
     "data": {
      "text/plain": [
       "tensor([[1, 4, 7],\n",
       "        [2, 5, 8],\n",
       "        [3, 6, 9]])"
      ]
     },
     "execution_count": 41,
     "metadata": {},
     "output_type": "execute_result"
    }
   ],
   "execution_count": 41
  },
  {
   "metadata": {
    "ExecuteTime": {
     "end_time": "2024-08-24T08:02:13.429171Z",
     "start_time": "2024-08-24T08:02:13.422385Z"
    }
   },
   "cell_type": "code",
   "source": "m.transpose(0, 1)",
   "id": "df79f223dd4ee1de",
   "outputs": [
    {
     "data": {
      "text/plain": [
       "tensor([[1, 4, 7],\n",
       "        [2, 5, 8],\n",
       "        [3, 6, 9]])"
      ]
     },
     "execution_count": 42,
     "metadata": {},
     "output_type": "execute_result"
    }
   ],
   "execution_count": 42
  },
  {
   "metadata": {
    "ExecuteTime": {
     "end_time": "2024-08-24T08:02:13.479186Z",
     "start_time": "2024-08-24T08:02:13.472177Z"
    }
   },
   "cell_type": "code",
   "source": "torch.linspace(3, 8, 20)",
   "id": "b6143fc6e6bce1e5",
   "outputs": [
    {
     "data": {
      "text/plain": [
       "tensor([3.0000, 3.2632, 3.5263, 3.7895, 4.0526, 4.3158, 4.5789, 4.8421, 5.1053,\n",
       "        5.3684, 5.6316, 5.8947, 6.1579, 6.4211, 6.6842, 6.9474, 7.2105, 7.4737,\n",
       "        7.7368, 8.0000])"
      ]
     },
     "execution_count": 43,
     "metadata": {},
     "output_type": "execute_result"
    }
   ],
   "execution_count": 43
  },
  {
   "metadata": {
    "ExecuteTime": {
     "end_time": "2024-08-24T08:02:13.806421Z",
     "start_time": "2024-08-24T08:02:13.512761Z"
    }
   },
   "cell_type": "code",
   "source": [
    "import matplotlib.pyplot as plt\n",
    "\n",
    "plt.hist(torch.randn(1000).numpy(),bins=100)\n",
    "plt.show()"
   ],
   "id": "3c0f1780ecc71b62",
   "outputs": [
    {
     "data": {
      "text/plain": [
       "<Figure size 640x480 with 1 Axes>"
      ],
      "image/png": "[encoded data removed]"
     },
     "metadata": {},
     "output_type": "display_data"
    }
   ],
   "execution_count": 44
  },
  {
   "metadata": {
    "ExecuteTime": {
     "end_time": "2024-08-24T08:02:14.005005Z",
     "start_time": "2024-08-24T08:02:13.809429Z"
    }
   },
   "cell_type": "code",
   "source": [
    "plt.hist(torch.randn(10**6).numpy(),bins=100)\n",
    "plt.show()"
   ],
   "id": "33b0329e8dc78bb6",
   "outputs": [
    {
     "data": {
      "text/plain": [
       "<Figure size 640x480 with 1 Axes>"
      ],
      "image/png": "[encoded data removed]"
     },
     "metadata": {},
     "output_type": "display_data"
    }
   ],
   "execution_count": 45
  },
  {
   "metadata": {},
   "cell_type": "markdown",
   "source": "# Spiral Classsifciation\n",
   "id": "e69538106c5a8338"
  },
  {
   "metadata": {
    "ExecuteTime": {
     "end_time": "2024-08-24T08:07:46.411120Z",
     "start_time": "2024-08-24T08:07:46.406695Z"
    }
   },
   "cell_type": "code",
   "source": [
    "# import\n",
    "import random\n",
    "import math \n",
    "import torch\n",
    "import torch.nn as nn\n",
    "import torch.optim as optim\n",
    "from IPython import display\n",
    "from plot_lib import plot_data, plot_model, set_default"
   ],
   "id": "4e3c924fb5bf4fe0",
   "outputs": [],
   "execution_count": 51
  },
  {
   "metadata": {
    "ExecuteTime": {
     "end_time": "2024-08-24T08:07:47.656001Z",
     "start_time": "2024-08-24T08:07:47.650767Z"
    }
   },
   "cell_type": "code",
   "source": [
    "device = torch.device(\"cuda:0\" if torch.cuda.is_available() else \"cpu\")\n",
    "device"
   ],
   "id": "4d444aa2adc5e860",
   "outputs": [
    {
     "data": {
      "text/plain": [
       "device(type='cpu')"
      ]
     },
     "execution_count": 52,
     "metadata": {},
     "output_type": "execute_result"
    }
   ],
   "execution_count": 52
  },
  {
   "metadata": {},
   "cell_type": "markdown",
   "source": "初始化随机数种子，神经网络参数在初始时是随机的，而不同的初始值会影响神经网络的性能，当我们德奥一个比较好的结果时，我们希望这是可以复现的，因此，在pytorch中通过设置随机数种子来达到这个目的。",
   "id": "d5d98f173804691b"
  },
  {
   "metadata": {},
   "cell_type": "markdown",
   "source": "初始化X和Y，X是一个特征矩阵，大小为[NxC, D]，Y是样本标签大小为CxN。",
   "id": "fbe44335e0d0a45f"
  },
  {
   "metadata": {
    "ExecuteTime": {
     "end_time": "2024-08-24T08:07:48.790819Z",
     "start_time": "2024-08-24T08:07:48.785166Z"
    }
   },
   "cell_type": "code",
   "source": [
    "seed = 12345\n",
    "random.seed(seed)\n",
    "torch.manual_seed(seed)\n",
    "\n",
    "N = 1000  # 每类样本的数量\n",
    "D = 2   # 每类样本的特征维度\n",
    "C = 3   # 样本类别\n",
    "H = 100     # 隐藏层单元数量"
   ],
   "id": "b50c90557917e23a",
   "outputs": [],
   "execution_count": 53
  },
  {
   "metadata": {
    "ExecuteTime": {
     "end_time": "2024-08-24T08:07:49.102869Z",
     "start_time": "2024-08-24T08:07:48.984771Z"
    }
   },
   "cell_type": "code",
   "source": [
    "X = torch.zeros(N * C, D).to(device)\n",
    "Y = torch.zeros(N * C, dtype=torch.long).to(device)\n",
    "for c in range(C):\n",
    "    index = 0\n",
    "    t = torch.linspace(0, 1, N)\n",
    "    inner_var = torch.linspace((2*math.pi/C) * c, (2 * math.pi / C) * (c + 2), N)\n",
    "    for ix in range(N * c, N * (c+1)):\n",
    "        X[ix] = t[index] * torch.FloatTensor((math.sin(inner_var[index]),math.cos(inner_var[index])))\n",
    "        Y[ix] = c\n",
    "        index += 1\n",
    "print('Shapes：')\n",
    "print(X.size())\n",
    "print(Y.size())"
   ],
   "id": "26ba3abfe9f84f8e",
   "outputs": [
    {
     "name": "stdout",
     "output_type": "stream",
     "text": [
      "Shapes：\n",
      "torch.Size([3000, 2])\n",
      "torch.Size([3000])\n"
     ]
    }
   ],
   "execution_count": 54
  },
  {
   "metadata": {
    "ExecuteTime": {
     "end_time": "2024-08-24T08:07:49.245885Z",
     "start_time": "2024-08-24T08:07:49.109877Z"
    }
   },
   "cell_type": "code",
   "source": "plot_data(X, Y)",
   "id": "770efd4a93c9a497",
   "outputs": [
    {
     "data": {
      "text/plain": [
       "<Figure size 640x480 with 1 Axes>"
      ],
      "image/png": "[encoded data removed]"
     },
     "metadata": {},
     "output_type": "display_data"
    }
   ],
   "execution_count": 55
  },
  {
   "metadata": {},
   "cell_type": "markdown",
   "source": "## 1.构建线性分类模型",
   "id": "38b4b18f53266c3c"
  },
  {
   "metadata": {},
   "cell_type": "code",
   "source": [
    "lr = 1e-3\n",
    "lambda_12 = 1e-5\n",
    "\n",
    "# nn用于创建模型，每个模型包含weight和bias\n",
    "model = torch.nn.Sequential(\n",
    "    nn.Linear(D, H),\n",
    "    nn.Linear(H, C)\n",
    ")\n",
    "\n",
    "# loss，本处使用交叉熵函数\n",
    "critierion = nn.CrossEntropyLoss()\n",
    "\n",
    "optimizer = optim.SGD(model.parameters(), lr=lr, weight_decay=lambda_12)\n",
    "\n",
    "# 训练\n",
    "for epoch in range(1000):\n",
    "    y_pred = model(X)\n",
    "    loss = critierion(y_pred, Y)\n",
    "    score, predicted = torch.max(y_pred, 1)\n",
    "    acc = (predicted == Y).sum().float() / Y.size(0)\n",
    "    print('[EPROCH]:%i, [LOSS]:%.3f, [ACC]:%.3f' % (epoch, loss.item(), acc))\n",
    "    display.clear_output(wait=True)\n",
    "    \n",
    "    optimizer.zero_grad()\n",
    "    loss.backward()\n",
    "    optimizer.step()"
   ],
   "id": "933fff583597b498",
   "execution_count": 69,
   "outputs": []
  },
  {
   "metadata": {
    "ExecuteTime": {
     "end_time": "2024-08-24T08:17:49.978264Z",
     "start_time": "2024-08-24T08:17:49.768516Z"
    }
   },
   "cell_type": "code",
   "source": [
    "print(model)\n",
    "plot_model(X, Y, model)"
   ],
   "id": "9c60f8772919e369",
   "outputs": [
    {
     "data": {
      "text/plain": [
       "<Figure size 640x480 with 1 Axes>"
      ],
      "image/png": "[encoded data removed]"
     },
     "metadata": {},
     "output_type": "display_data"
    }
   ],
   "execution_count": 68
  },
  {
   "metadata": {},
   "cell_type": "markdown",
   "source": "2. 构建两层神经网络（实际上是在原本模型增加ReLU激活函数）",
   "id": "22320e5055d2f5b"
  },
  {
   "metadata": {},
   "cell_type": "code",
   "source": [
    "lr = 1e-3\n",
    "lambda_12 = 1e-5\n",
    "\n",
    "# nn用于创建模型，每个模型包含weight和bias\n",
    "model = torch.nn.Sequential(\n",
    "    nn.Linear(D, H),\n",
    "    nn.ReLU(),\n",
    "    nn.Linear(H, C)\n",
    ")\n",
    "model.to(device)\n",
    "\n",
    "# loss，本处使用交叉熵函数\n",
    "critierion = nn.CrossEntropyLoss()\n",
    "\n",
    "optimizer = optim.SGD(model.parameters(), lr=lr, weight_decay=lambda_12)\n",
    "\n",
    "# 训练\n",
    "for epoch in range(10000):\n",
    "    y_pred = model(X)\n",
    "    loss = critierion(y_pred, Y)\n",
    "    score, predicted = torch.max(y_pred, 1)\n",
    "    acc = (predicted == Y).sum().float() / Y.size(0)\n",
    "    print('[EPROCH]:%i, [LOSS]:%.3f, [ACC]:%.3f' % (epoch, loss.item(), acc))\n",
    "    display.clear_output(wait=True)\n",
    "    \n",
    "    optimizer.zero_grad()\n",
    "    loss.backward()\n",
    "    optimizer.step()"
   ],
   "id": "eaea30fad2392a67",
   "execution_count": 81,
   "outputs": []
  },
  {
   "metadata": {
    "ExecuteTime": {
     "end_time": "2024-08-24T08:22:01.170565Z",
     "start_time": "2024-08-24T08:22:01.007603Z"
    }
   },
   "cell_type": "code",
   "source": [
    "print(model)\n",
    "plot_model(X, Y, model)"
   ],
   "id": "12340f736fc0c83e",
   "outputs": [
    {
     "name": "stdout",
     "output_type": "stream",
     "text": [
      "Sequential(\n",
      "  (0): Linear(in_features=2, out_features=100, bias=True)\n",
      "  (1): ReLU()\n",
      "  (2): Linear(in_features=100, out_features=3, bias=True)\n",
      ")\n"
     ]
    },
    {
     "data": {
      "text/plain": [
       "<Figure size 640x480 with 1 Axes>"
      ],
      "image/png": "[encoded data removed]"
     },
     "metadata": {},
     "output_type": "display_data"
    }
   ],
   "execution_count": 82
  },
  {
   "metadata": {},
   "cell_type": "markdown",
   "source": [
    "# 问题思考\n",
    "### 1. AlexNet有什么特点？为什么能够取得比LeNet更好的性能？\n",
    "答：AlexNet是2012年提出的卷积神经网络模型，包含5个卷积层和3个全连接层，被认为是第一个深度神经网络，是深度学习领域一个重要的里程碑。同时，AlexNet开创性的使用GPU进行网络训练，大大提高了训练速度。相比于早期的LeNet，它还具有以下几个特点\n",
    "1. 在全连接层使用了Dropout技术，通过随机令部分神经元失活的方式，防止模型过拟合，提高了模型的泛化能力。\n",
    "2. 使用ReLU函数作为其激活函数，能够有效的解决梯度消失问题，加快网络训练速度。\n",
    "3. AlexNet能够输入更大的图像，使得模型具有处理图像中细节与复杂信息的能力。\n",
    "\n",
    "### 2. 激活函数有哪些作用？\n",
    "答：激活函数在神经元计算中具有非常重要的作用，激活函数模拟了生物神经元的行为，即神经元突触中的电信号达到一定水平时，神经元才会被“激活”并传递信号。同时，激活函数通常选择非线性函数，给神经网络引入了非线性元素，将特征从线性空间映射到非线性空间，非线性激活函数舍得神经网络呢个给对数据进行复杂的转换，能够拟合和结果复杂的非线性问题。常用的激活函数有Sigmoid函数、Tanh函数，ReLU函数等。\n",
    "\n",
    "### 3. 梯度消失现象是什么？\n",
    "答：梯度消失问题是指神经网络在训练过程中，损失函数的梯度逐层变小，使得前面的层梯度变得很小甚至为0，导致前几层的权重更新非常缓慢甚至停止，从而影响神经网络的学习效率。梯度消失通常由以下因素造成：\n",
    "1. 链式法则：在反向传播过程中，损失函数的求导遵循链式求导法则，即某一层的梯度是由许多层的导数相乘得到的，当某一层的梯度小于1时，这个乘积会因误差反向传播越来越小，最终接近于0\n",
    "2. 激活函数：使用Sigmoid函数与Tanh函数时，由于这个两个函数的输出均小于1，容易导致梯度消失。\n",
    "有以下集中方法解决梯度消失问题：\n",
    "1. ReLU函数作为激活函数\n",
    "2. 引入残差网络\n",
    "3. 合适的权重初始化\n",
    "4. 调整学习率\n",
    "\n",
    "### 4.神经网络是更宽还是更深好？\n",
    "答：神经网络的深度（层数）与宽度（每层神经元的数量）对模型的训练速度、模型性能都有重要的影响。\n",
    "更深的神经网络具有更强的特征提取能力，模型的表达能力更强，但是会出现梯度消失或梯度爆炸等问题，同时网络的训练难度也会大幅提升，当数据量不足的时候，也会有过拟合的风险。\n",
    "\n",
    "更宽的网络意味着每层包含有更多的神经元，训练的稳定性较强，更快的收敛速度，同时宽的神经网络在简单任务上具有很好的表现，因为简单任务的特征在浅层就\n",
    "能被很好的表达出来，同时更宽的网络会导致参数的大量增加，面对复杂的任务时，宽的神经网络可能不能很好的提取数据中的特征。\n",
    "综上所述，对于更宽还是更深要针对于任务来考虑。对于复杂任务，深层的神经网络会具有更好的性能，而简单任务使用宽的神经网络以节省资源\n",
    "\n",
    "### 5. 为什么要使用SoftMax？\n",
    "SoftMax函数的作用是将神经网络的输出转化为概率分布，方便完成分类的任务。SoftMAx函数表达式如下：\n",
    "$$ \n",
    "\\hat{y}_{i}=\\frac{e^{z_{i}}}{\\sum_{j=1}^{n} e^{z_{j}}}\n",
    "$$\n",
    "SoftMax的输出介于0-1之间，被认为是一个概率分布，在多分类任务中，SoftMax的输出可以认为是该样本被分为某类的概率，概率最高的那个类别会被认为是该样本所在的类别。\n",
    "\n",
    "### 6. SGD与Adam哪个更有效？\n",
    "SGD（随机梯度下降）是梯度下降算法的一种，它使用随机选取的小批量数据来计算并更新模型的参数，这种随机性引入了一定的噪声，但是也能够加快训练和避免陷入局部最优。SGD算法优化效率高，适合在线学习，但是收敛不稳定且依赖学习率。\n",
    "Adam（Adaptive Moment Estimation）结合了动量法和RMSProp的优点，通过计算梯度的一阶矩估计和二阶矩估计来自适应的调整学习率。Adam具有自适应学习率、收敛速度快的优点，但是也可能导致过早的收敛。\n"
   ],
   "id": "c9469d686af0eb6c"
  },
  {
   "metadata": {},
   "cell_type": "markdown",
   "source": [
    "GitHub：https://github.com/wmingqiang01/DEEPlearning_work.git\n",
    "\n",
    "欢迎访问我的主页：https://wmingqiang01.github.io/"
   ],
   "id": "ae8b338f493d87e5"
  },
  {
   "metadata": {},
   "cell_type": "code",
   "outputs": [],
   "execution_count": null,
   "source": "",
   "id": "b7c3e9b96345a8f2"
  }
 ],
 "metadata": {
  "kernelspec": {
   "display_name": "Python 3",
   "language": "python",
   "name": "python3"
  },
  "language_info": {
   "codemirror_mode": {
    "name": "ipython",
    "version": 2
   },
   "file_extension": ".py",
   "mimetype": "text/x-python",
   "name": "python",
   "nbconvert_exporter": "python",
   "pygments_lexer": "ipython2",
   "version": "2.7.6"
  }
 },
 "nbformat": 4,
 "nbformat_minor": 5
}
